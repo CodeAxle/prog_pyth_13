{
 "cells": [
  {
   "cell_type": "markdown",
   "id": "3a91f0ff",
   "metadata": {},
   "source": [
    "# 1."
   ]
  },
  {
   "cell_type": "code",
   "execution_count": 1,
   "id": "a5e6d3c2",
   "metadata": {},
   "outputs": [
    {
     "name": "stdout",
     "output_type": "stream",
     "text": [
      "Enter values of D separated by commas: 55\n",
      "For D = 55, Q = 13.5400640077266\n"
     ]
    }
   ],
   "source": [
    "# code:\n",
    "import math\n",
    "\n",
    "# Fixed values of C and H\n",
    "C = 50\n",
    "H = 30\n",
    "\n",
    "# Input sequence of D values as comma-separated string\n",
    "input_sequence = input(\"Enter values of D separated by commas: \")\n",
    "\n",
    "# Split the input sequence into individual values and convert to integers\n",
    "D_values = [int(x) for x in input_sequence.split(',')]\n",
    "\n",
    "# Calculate Q for each D value and print the result\n",
    "for D in D_values:\n",
    "    Q = math.sqrt((2 * C * D) / H)\n",
    "    print(f\"For D = {D}, Q = {Q}\")"
   ]
  },
  {
   "cell_type": "markdown",
   "id": "a9e45cf9",
   "metadata": {},
   "source": [
    "# 2."
   ]
  },
  {
   "cell_type": "code",
   "execution_count": 5,
   "id": "d3eb8e24",
   "metadata": {},
   "outputs": [
    {
     "name": "stdout",
     "output_type": "stream",
     "text": [
      "Enter two digits (X,Y): 3,2\n",
      "[[0, 0], [0, 1], [0, 2]]\n"
     ]
    }
   ],
   "source": [
    "# code:\n",
    "def generate_2d_array(X, Y):\n",
    "    # Create an empty 2-dimensional list\n",
    "    array_2d = []\n",
    "\n",
    "    # Iterate through rows (i values)\n",
    "    for i in range(X):\n",
    "        # Create an empty row list for each i value\n",
    "        row = []\n",
    "        # Iterate through columns (j values) for each row\n",
    "        for j in range(Y):\n",
    "            # Calculate the element value and append to the row list\n",
    "            row.append(i * j)\n",
    "        # Append the row list to the 2-dimensional list\n",
    "        array_2d.append(row)\n",
    "\n",
    "    return array_2d\n",
    "\n",
    "# Take input for X and Y\n",
    "X, Y = map(int, input(\"Enter two digits (X,Y): \").split(','))\n",
    "\n",
    "# Generate the 2-dimensional array using the function\n",
    "result = generate_2d_array(X, Y)\n",
    "\n",
    "# Print the generated 2-dimensional array\n",
    "print(result)"
   ]
  },
  {
   "cell_type": "markdown",
   "id": "8d175653",
   "metadata": {},
   "source": [
    "# 3."
   ]
  },
  {
   "cell_type": "code",
   "execution_count": 8,
   "id": "8a4e3b63",
   "metadata": {},
   "outputs": [
    {
     "name": "stdout",
     "output_type": "stream",
     "text": [
      "Enter a comma-separated sequence of words:  red, blue, green, yellow\n",
      " blue, green, red, yellow\n"
     ]
    }
   ],
   "source": [
    "# code:\n",
    "# Take input as comma-separated sequence of words\n",
    "input_str = input(\"Enter a comma-separated sequence of words: \")\n",
    "\n",
    "# Split the input string into a list of words\n",
    "words_list = input_str.split(',')\n",
    "\n",
    "# Sort the words list alphabetically\n",
    "sorted_words = sorted(words_list)\n",
    "\n",
    "# Join the sorted words back into a comma-separated string\n",
    "output_str = ','.join(sorted_words)\n",
    "\n",
    "# Print the sorted and comma-separated string\n",
    "print(output_str)"
   ]
  },
  {
   "cell_type": "markdown",
   "id": "c027730f",
   "metadata": {},
   "source": [
    "# 4."
   ]
  },
  {
   "cell_type": "code",
   "execution_count": 9,
   "id": "b07075bf",
   "metadata": {},
   "outputs": [
    {
     "name": "stdout",
     "output_type": "stream",
     "text": [
      "Enter a sequence of whitespace-separated words: BMW AUDI PORSHE FERRARI FORD\n",
      "AUDI BMW FERRARI FORD PORSHE\n"
     ]
    }
   ],
   "source": [
    "# code:\n",
    "# Take input as a sequence of whitespace-separated words\n",
    "input_str = input(\"Enter a sequence of whitespace-separated words: \")\n",
    "\n",
    "# Split the input string into a list of words\n",
    "words_list = input_str.split()\n",
    "\n",
    "# Convert the list into a set to remove duplicates and sort alphabetically\n",
    "unique_sorted_words = sorted(set(words_list))\n",
    "\n",
    "# Join the sorted and unique words back into a string\n",
    "output_str = ' '.join(unique_sorted_words)\n",
    "\n",
    "# Print the sorted and unique words string\n",
    "print(output_str)"
   ]
  },
  {
   "cell_type": "markdown",
   "id": "95968a78",
   "metadata": {},
   "source": [
    "# 5."
   ]
  },
  {
   "cell_type": "code",
   "execution_count": 11,
   "id": "53b57f33",
   "metadata": {},
   "outputs": [
    {
     "name": "stdout",
     "output_type": "stream",
     "text": [
      "Enter a sentence: Hello, is it today's date 10 march ?\n",
      "LETTERS 24\n",
      "DIGITS 2\n"
     ]
    }
   ],
   "source": [
    "# CODE:\n",
    "# Take input sentence from the user\n",
    "input_sentence = input(\"Enter a sentence: \")\n",
    "\n",
    "# Initialize variables to count letters and digits\n",
    "num_letters = 0\n",
    "num_digits = 0\n",
    "\n",
    "# Iterate through each character in the input sentence\n",
    "for char in input_sentence:\n",
    "    # Check if the character is a letter\n",
    "    if char.isalpha():\n",
    "        num_letters += 1\n",
    "    # Check if the character is a digit\n",
    "    elif char.isdigit():\n",
    "        num_digits += 1\n",
    "\n",
    "# Print the counts of letters and digits\n",
    "print(f\"LETTERS {num_letters}\")\n",
    "print(f\"DIGITS {num_digits}\")"
   ]
  },
  {
   "cell_type": "markdown",
   "id": "000677c4",
   "metadata": {},
   "source": [
    "# 6."
   ]
  },
  {
   "cell_type": "code",
   "execution_count": 12,
   "id": "7dd71652",
   "metadata": {},
   "outputs": [
    {
     "name": "stdout",
     "output_type": "stream",
     "text": [
      "Enter comma-separated passwords:  Root@123, Root123, User@12, User \n",
      " Root@123, User@12\n"
     ]
    }
   ],
   "source": [
    "import re\n",
    "\n",
    "def is_valid_password(password):\n",
    "    # Define regex patterns for each criteria\n",
    "    has_lower = re.search(r'[a-z]', password)\n",
    "    has_upper = re.search(r'[A-Z]', password)\n",
    "    has_digit = re.search(r'[0-9]', password)\n",
    "    has_special = re.search(r'[$#@]', password)\n",
    "    is_valid_length = 6 <= len(password) <= 12\n",
    "    \n",
    "    # Check if all criteria are met\n",
    "    if has_lower and has_upper and has_digit and has_special and is_valid_length:\n",
    "        return True\n",
    "    else:\n",
    "        return False\n",
    "\n",
    "# Take input of comma-separated passwords\n",
    "passwords = input(\"Enter comma-separated passwords: \").split(',')\n",
    "\n",
    "# Initialize list to store valid passwords\n",
    "valid_passwords = []\n",
    "\n",
    "# Check validity of each password and add to valid_passwords list if valid\n",
    "for password in passwords:\n",
    "    if is_valid_password(password):\n",
    "        valid_passwords.append(password)\n",
    "\n",
    "# Print valid passwords separated by commas\n",
    "print(','.join(valid_passwords))"
   ]
  },
  {
   "cell_type": "code",
   "execution_count": null,
   "id": "9944716f",
   "metadata": {},
   "outputs": [],
   "source": []
  }
 ],
 "metadata": {
  "kernelspec": {
   "display_name": "Python 3 (ipykernel)",
   "language": "python",
   "name": "python3"
  },
  "language_info": {
   "codemirror_mode": {
    "name": "ipython",
    "version": 3
   },
   "file_extension": ".py",
   "mimetype": "text/x-python",
   "name": "python",
   "nbconvert_exporter": "python",
   "pygments_lexer": "ipython3",
   "version": "3.11.5"
  }
 },
 "nbformat": 4,
 "nbformat_minor": 5
}
